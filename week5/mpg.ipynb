{
 "cells": [
  {
   "cell_type": "code",
   "execution_count": 1,
   "metadata": {},
   "outputs": [],
   "source": [
    "from code_and_data_for_hw05 import code_for_hw5 as hw5"
   ]
  },
  {
   "cell_type": "code",
   "execution_count": 17,
   "metadata": {},
   "outputs": [
    {
     "ename": "TypeError",
     "evalue": "cannot unpack non-iterable NoneType object",
     "output_type": "error",
     "traceback": [
      "\u001b[1;31m---------------------------------------------------------------------------\u001b[0m",
      "\u001b[1;31mTypeError\u001b[0m                                 Traceback (most recent call last)",
      "Cell \u001b[1;32mIn[17], line 46\u001b[0m\n\u001b[0;32m     38\u001b[0m \u001b[38;5;66;03m#-------------------------------------------------------------------------------\u001b[39;00m\n\u001b[0;32m     39\u001b[0m \u001b[38;5;66;03m# Analyze auto data\u001b[39;00m\n\u001b[0;32m     40\u001b[0m \u001b[38;5;66;03m#-------------------------------------------------------------------------------     \u001b[39;00m\n\u001b[1;32m   (...)\u001b[0m\n\u001b[0;32m     43\u001b[0m \u001b[38;5;66;03m#Make sure to scale the RMSE values returned by xval_learning_alg by sigma,\u001b[39;00m\n\u001b[0;32m     44\u001b[0m \u001b[38;5;66;03m#as mentioned in the lab, in order to get accurate RMSE values on the dataset\u001b[39;00m\n\u001b[0;32m     45\u001b[0m test \u001b[38;5;241m=\u001b[39m hw5\u001b[38;5;241m.\u001b[39mmake_polynomial_feature_fun(\u001b[38;5;241m1\u001b[39m)(auto_data[\u001b[38;5;241m0\u001b[39m])\n\u001b[1;32m---> 46\u001b[0m \u001b[43mhw5\u001b[49m\u001b[38;5;241;43m.\u001b[39;49m\u001b[43mxval_learning_alg\u001b[49m\u001b[43m(\u001b[49m\u001b[43mtest\u001b[49m\u001b[43m,\u001b[49m\u001b[43m \u001b[49m\u001b[43mauto_values\u001b[49m\u001b[43m,\u001b[49m\u001b[43m \u001b[49m\u001b[38;5;241;43m0\u001b[39;49m\u001b[43m,\u001b[49m\u001b[43m \u001b[49m\u001b[38;5;241;43m10\u001b[39;49m\u001b[43m)\u001b[49m\n",
      "File \u001b[1;32mc:\\Users\\jiama\\Documents\\ocw\\week5\\code_and_data_for_hw05\\code_for_hw5.py:391\u001b[0m, in \u001b[0;36mxval_learning_alg\u001b[1;34m(X, y, lam, k)\u001b[0m\n\u001b[0;32m    389\u001b[0m     X_test \u001b[38;5;241m=\u001b[39m np\u001b[38;5;241m.\u001b[39marray(split_X[i])\n\u001b[0;32m    390\u001b[0m     y_test \u001b[38;5;241m=\u001b[39m np\u001b[38;5;241m.\u001b[39marray(split_y[i])\n\u001b[1;32m--> 391\u001b[0m     score_sum \u001b[38;5;241m+\u001b[39m\u001b[38;5;241m=\u001b[39m \u001b[43meval_predictor\u001b[49m\u001b[43m(\u001b[49m\u001b[43mX_train\u001b[49m\u001b[43m,\u001b[49m\u001b[43m \u001b[49m\u001b[43my_train\u001b[49m\u001b[43m,\u001b[49m\u001b[43m \u001b[49m\u001b[43mX_test\u001b[49m\u001b[43m,\u001b[49m\u001b[43m \u001b[49m\u001b[43my_test\u001b[49m\u001b[43m,\u001b[49m\u001b[43m \u001b[49m\u001b[43mlam\u001b[49m\u001b[43m)\u001b[49m\n\u001b[0;32m    392\u001b[0m \u001b[38;5;28;01mreturn\u001b[39;00m score_sum\u001b[38;5;241m/\u001b[39mk\n",
      "File \u001b[1;32mc:\\Users\\jiama\\Documents\\ocw\\week5\\code_and_data_for_hw05\\code_for_hw5.py:361\u001b[0m, in \u001b[0;36meval_predictor\u001b[1;34m(X_train, Y_train, X_test, Y_test, lam)\u001b[0m\n\u001b[0;32m    360\u001b[0m \u001b[38;5;28;01mdef\u001b[39;00m \u001b[38;5;21meval_predictor\u001b[39m(X_train, Y_train, X_test, Y_test, lam):\n\u001b[1;32m--> 361\u001b[0m     th, th0 \u001b[38;5;241m=\u001b[39m \u001b[43mridge_min\u001b[49m\u001b[43m(\u001b[49m\u001b[43mX_train\u001b[49m\u001b[43m,\u001b[49m\u001b[43m \u001b[49m\u001b[43mY_train\u001b[49m\u001b[43m,\u001b[49m\u001b[43m \u001b[49m\u001b[43mlam\u001b[49m\u001b[43m)\u001b[49m\n\u001b[0;32m    362\u001b[0m     \u001b[38;5;28;01mreturn\u001b[39;00m np\u001b[38;5;241m.\u001b[39msqrt(mean_square_loss(X_test, Y_test, th, th0))\n",
      "File \u001b[1;32mc:\\Users\\jiama\\Documents\\ocw\\week5\\code_and_data_for_hw05\\code_for_hw5.py:324\u001b[0m, in \u001b[0;36mridge_min\u001b[1;34m(X, y, lam)\u001b[0m\n\u001b[0;32m    321\u001b[0m     \u001b[38;5;28;01mreturn\u001b[39;00m ridge_obj_grad(Xj[:\u001b[38;5;241m-\u001b[39m\u001b[38;5;241m1\u001b[39m,:], yj, th[:\u001b[38;5;241m-\u001b[39m\u001b[38;5;241m1\u001b[39m,:], th[\u001b[38;5;241m-\u001b[39m\u001b[38;5;241m1\u001b[39m:,:], lam)\n\u001b[0;32m    323\u001b[0m np\u001b[38;5;241m.\u001b[39mrandom\u001b[38;5;241m.\u001b[39mseed(\u001b[38;5;241m0\u001b[39m)\n\u001b[1;32m--> 324\u001b[0m w, fs, ws \u001b[38;5;241m=\u001b[39m sgd(X_extend, y, J, dJ, w_init, svm_min_step_size_fn, \u001b[38;5;241m1000\u001b[39m)\n\u001b[0;32m    325\u001b[0m \u001b[38;5;28;01mreturn\u001b[39;00m w[:\u001b[38;5;241m-\u001b[39m\u001b[38;5;241m1\u001b[39m,:], w[\u001b[38;5;241m-\u001b[39m\u001b[38;5;241m1\u001b[39m:,:]\n",
      "\u001b[1;31mTypeError\u001b[0m: cannot unpack non-iterable NoneType object"
     ]
    }
   ],
   "source": [
    "import numpy as np\n",
    "#-------------------------------------------------------------------------------\n",
    "# Auto Data\n",
    "#-------------------------------------------------------------------------------\n",
    "\n",
    "# Returns a list of dictionaries.  Keys are the column names, including mpg.\n",
    "auto_data_all = hw5.load_auto_data('./code_and_data_for_hw05/auto-mpg-regression.tsv')\n",
    "\n",
    "# The choice of feature processing for each feature, mpg is always raw and\n",
    "# does not need to be specified.  Other choices are hw5.standard and hw5.one_hot.\n",
    "# 'name' is not numeric and would need a different encoding.\n",
    "features1 = [('cylinders', hw5.standard),\n",
    "            ('displacement', hw5.standard),\n",
    "            ('horsepower', hw5.standard),\n",
    "            ('weight', hw5.standard),\n",
    "            ('acceleration', hw5.standard),\n",
    "            ('origin', hw5.one_hot)]\n",
    "\n",
    "features2 = [('cylinders', hw5.one_hot),\n",
    "            ('displacement', hw5.standard),\n",
    "            ('horsepower', hw5.standard),\n",
    "            ('weight', hw5.standard),\n",
    "            ('acceleration', hw5.standard),\n",
    "            ('origin', hw5.one_hot)]\n",
    "\n",
    "# Construct the standard data and label arrays\n",
    "#auto_data[0] has the features for choice features1\n",
    "#auto_data[1] has the features for choice features2\n",
    "#The labels for both are the same, and are in auto_values\n",
    "auto_data = [0, 0]\n",
    "auto_values = 0\n",
    "auto_data[0], auto_values = hw5.auto_data_and_values(auto_data_all, features1)\n",
    "auto_data[1], _ = hw5.auto_data_and_values(auto_data_all, features2)\n",
    "\n",
    "#standardize the y-values\n",
    "auto_values, mu, sigma = hw5.std_y(auto_values)\n",
    "\n",
    "#-------------------------------------------------------------------------------\n",
    "# Analyze auto data\n",
    "#-------------------------------------------------------------------------------     \n",
    "        \n",
    "#Your code for cross-validation goes here\n",
    "#Make sure to scale the RMSE values returned by xval_learning_alg by sigma,\n",
    "#as mentioned in the lab, in order to get accurate RMSE values on the dataset\n",
    "test = hw5.make_polynomial_feature_fun(1)(auto_data[0])\n",
    "hw5.xval_learning_alg(test, auto_values, 0, 10)"
   ]
  }
 ],
 "metadata": {
  "kernelspec": {
   "display_name": "Python 3",
   "language": "python",
   "name": "python3"
  },
  "language_info": {
   "codemirror_mode": {
    "name": "ipython",
    "version": 3
   },
   "file_extension": ".py",
   "mimetype": "text/x-python",
   "name": "python",
   "nbconvert_exporter": "python",
   "pygments_lexer": "ipython3",
   "version": "3.11.9"
  }
 },
 "nbformat": 4,
 "nbformat_minor": 2
}
