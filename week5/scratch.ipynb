{
 "cells": [
  {
   "cell_type": "code",
   "execution_count": 1,
   "metadata": {},
   "outputs": [],
   "source": [
    "import numpy as np"
   ]
  },
  {
   "cell_type": "code",
   "execution_count": 2,
   "metadata": {},
   "outputs": [],
   "source": [
    "# In all the following definitions:\n",
    "# x is d by n : input data\n",
    "# y is 1 by n : output regression values\n",
    "# th is d by 1 : weights\n",
    "# th0 is 1 by 1 or scalar\n",
    "\n",
    "def lin_reg(x, th, th0):\n",
    "    return np.dot(th.T, x) + th0\n",
    "\n",
    "def square_loss(x, y, th, th0):\n",
    "    return (y - lin_reg(x, th, th0))**2\n",
    "\n",
    "def mean_square_loss(x, y, th, th0):\n",
    "    # the axis=1 and keepdims=True are important when x is a full matrix\n",
    "    return np.mean(square_loss(x, y, th, th0), axis = 1, keepdims = True)"
   ]
  },
  {
   "cell_type": "code",
   "execution_count": 3,
   "metadata": {},
   "outputs": [],
   "source": [
    "X = np.array([[1., 2., 3., 4.], [1., 1., 1., 1.]])\n",
    "Y = np.array([[1., 2.2, 2.8, 4.1]])\n",
    "th = np.array([[1.0],[0.05]])\n",
    "th0 = np.array([[0.]])"
   ]
  },
  {
   "cell_type": "code",
   "execution_count": 4,
   "metadata": {},
   "outputs": [],
   "source": [
    "# Write a function that returns the gradient of lin_reg(x, th, th0)\n",
    "# with respect to th\n",
    "def d_lin_reg_th(x, th, th0):\n",
    "    return x\n",
    "    \n",
    "# Write a function that returns the gradient of square_loss(x, y, th, th0) with\n",
    "# respect to th.  It should be a one-line expression that uses lin_reg and\n",
    "# d_lin_reg_th.\n",
    "def d_square_loss_th(x, y, th, th0):\n",
    "    return -2*d_lin_reg_th(x, th, th0)*(y - lin_reg(x, th, th0))\n",
    "\n",
    "# Write a function that returns the gradient of mean_square_loss(x, y, th, th0) with\n",
    "# respect to th.  It should be a one-line expression that uses d_square_loss_th.\n",
    "def d_mean_square_loss_th(x, y, th, th0):\n",
    "    return np.mean(d_square_loss_th(x, y, th, th0), axis=1, keepdims=True)"
   ]
  },
  {
   "cell_type": "code",
   "execution_count": 6,
   "metadata": {},
   "outputs": [],
   "source": [
    "# Write a function that returns the gradient of lin_reg(x, th, th0)\n",
    "# with respect to th0. Hint: Think carefully about what the dimensions of the returned value should be!\n",
    "def d_lin_reg_th0(x, th, th0):\n",
    "    return np.ones((1, x.shape[1]))\n",
    "    \n",
    "# Write a function that returns the gradient of square_loss(x, y, th, th0) with\n",
    "# respect to th0.  It should be a one-line expression that uses lin_reg and\n",
    "# d_lin_reg_th0.\n",
    "def d_square_loss_th0(x, y, th, th0):\n",
    "    return -2*(y - lin_reg(x, th, th0))\n",
    "\n",
    "# Write a function that returns the gradient of mean_square_loss(x, y, th, th0) with\n",
    "# respect to th0.  It should be a one-line expression that uses d_square_loss_th0.\n",
    "def d_mean_square_loss_th0(x, y, th, th0):\n",
    "    return np.mean(d_square_loss_th0(x, y, th, th0), axis=1, keepdims=True)"
   ]
  },
  {
   "cell_type": "code",
   "execution_count": 7,
   "metadata": {},
   "outputs": [],
   "source": [
    "# In all the following definitions:\n",
    "# x is d by n : input data\n",
    "# y is 1 by n : output regression values\n",
    "# th is d by 1 : weights\n",
    "# th0 is 1 by 1 or scalar\n",
    "def ridge_obj(x, y, th, th0, lam):\n",
    "    return np.mean(square_loss(x, y, th, th0), axis = 1, keepdims = True) + lam * np.linalg.norm(th)**2"
   ]
  },
  {
   "cell_type": "code",
   "execution_count": 9,
   "metadata": {},
   "outputs": [],
   "source": [
    "def d_ridge_obj_th(x, y, th, th0, lam):\n",
    "    return d_mean_square_loss_th(x, y, th, th0) + 2*lam*th\n",
    "\n",
    "def d_ridge_obj_th0(x, y, th, th0, lam):\n",
    "    return d_mean_square_loss_th0(x, y, th, th0)"
   ]
  },
  {
   "cell_type": "code",
   "execution_count": null,
   "metadata": {},
   "outputs": [],
   "source": []
  }
 ],
 "metadata": {
  "kernelspec": {
   "display_name": "Python 3",
   "language": "python",
   "name": "python3"
  },
  "language_info": {
   "codemirror_mode": {
    "name": "ipython",
    "version": 3
   },
   "file_extension": ".py",
   "mimetype": "text/x-python",
   "name": "python",
   "nbconvert_exporter": "python",
   "pygments_lexer": "ipython3",
   "version": "3.11.9"
  }
 },
 "nbformat": 4,
 "nbformat_minor": 2
}
