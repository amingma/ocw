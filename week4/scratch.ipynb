{
 "cells": [
  {
   "cell_type": "code",
   "execution_count": 3,
   "metadata": {},
   "outputs": [],
   "source": [
    "import numpy as np\n",
    "import numpy.linalg as la"
   ]
  },
  {
   "cell_type": "code",
   "execution_count": 2,
   "metadata": {},
   "outputs": [],
   "source": [
    "data = np.array([[1, 2, 1, 2, 10, 10.3, 10.5, 10.7],\n",
    "                 [1, 1, 2, 2,  2,  2,  2, 2]])\n",
    "labels = np.array([[-1, -1, 1, 1, 1, 1, 1, 1]])\n",
    "blue_th = np.array([[0, 1]]).T\n",
    "blue_th0 = -1.5\n",
    "red_th = np.array([[1, 0]]).T\n",
    "red_th0 = -2.5"
   ]
  },
  {
   "cell_type": "code",
   "execution_count": 4,
   "metadata": {},
   "outputs": [],
   "source": [
    "def magnitude(th):\n",
    "    return la.norm(th)\n",
    "\n",
    "def margin(x, y, th, th0):\n",
    "    return y*(th.T@x+th0)/magnitude(th)"
   ]
  },
  {
   "cell_type": "code",
   "execution_count": null,
   "metadata": {},
   "outputs": [],
   "source": []
  },
  {
   "cell_type": "code",
   "execution_count": 14,
   "metadata": {},
   "outputs": [],
   "source": [
    "def score_sum(data, labels, th, th0):\n",
    "    _, n = data.shape\n",
    "    margin_sum = 0\n",
    "    for i in range(n):\n",
    "        margin_sum += margin(data[:, i:i+1], labels[:, i:i+1], th, th0)\n",
    "    return margin_sum[0, 0]\n",
    "\n",
    "def score_min(data, labels, th, th0):\n",
    "    _, n = data.shape\n",
    "    margin_min = margin(data[:, 0:1], labels[:, 0:1], th, th0)[0, 0]\n",
    "    for i in range(1, n):\n",
    "        margin_min = min(margin_min, margin(data[:, i:i+1], labels[:, i:i+1], th, th0)[0, 0])\n",
    "    return margin_min\n",
    "\n",
    "def score_max(data, labels, th, th0):\n",
    "    _, n = data.shape\n",
    "    margin_max = margin(data[:, 0:1], labels[:, 0:1], th, th0)[0, 0]\n",
    "    for i in range(1, n):\n",
    "        margin_max = max(margin_max, margin(data[:, i:i+1], labels[:, i:i+1], th, th0)[0, 0])\n",
    "    return margin_max\n"
   ]
  },
  {
   "cell_type": "code",
   "execution_count": 15,
   "metadata": {},
   "outputs": [
    {
     "name": "stdout",
     "output_type": "stream",
     "text": [
      "31.5\n",
      "-1.5\n",
      "8.2\n"
     ]
    }
   ],
   "source": [
    "print(score_sum(data, labels, red_th, red_th0))\n",
    "print(score_min(data, labels, red_th, red_th0))\n",
    "print(score_max(data, labels, red_th, red_th0))"
   ]
  },
  {
   "cell_type": "code",
   "execution_count": 16,
   "metadata": {},
   "outputs": [
    {
     "name": "stdout",
     "output_type": "stream",
     "text": [
      "4.0\n",
      "0.5\n",
      "0.5\n"
     ]
    }
   ],
   "source": [
    "print(score_sum(data, labels, blue_th, blue_th0))\n",
    "print(score_min(data, labels, blue_th, blue_th0))\n",
    "print(score_max(data, labels, blue_th, blue_th0))"
   ]
  },
  {
   "cell_type": "code",
   "execution_count": 21,
   "metadata": {},
   "outputs": [],
   "source": [
    "data = np.array([[1.1, 1, 4],[3.1, 1, 2]])\n",
    "labels = np.array([[1, -1, -1]])\n",
    "th = np.array([[1, 1]]).T\n",
    "th0 = -4"
   ]
  },
  {
   "cell_type": "code",
   "execution_count": 25,
   "metadata": {},
   "outputs": [],
   "source": [
    "def hinge_loss(x, y, th, th0, ref):\n",
    "    m = margin(x, y, th, th0)\n",
    "    if m < ref:\n",
    "        return 1 - m/ref\n",
    "    return 0"
   ]
  },
  {
   "cell_type": "code",
   "execution_count": 26,
   "metadata": {},
   "outputs": [
    {
     "name": "stdout",
     "output_type": "stream",
     "text": [
      "[[0.8]]\n",
      "0\n",
      "[[3.]]\n"
     ]
    }
   ],
   "source": [
    "for i in range(3):\n",
    "    print(hinge_loss(data[:, i:i+1], labels[:, i:i+1], th, th0, 1/2**0.5))"
   ]
  }
 ],
 "metadata": {
  "kernelspec": {
   "display_name": "Python 3",
   "language": "python",
   "name": "python3"
  },
  "language_info": {
   "codemirror_mode": {
    "name": "ipython",
    "version": 3
   },
   "file_extension": ".py",
   "mimetype": "text/x-python",
   "name": "python",
   "nbconvert_exporter": "python",
   "pygments_lexer": "ipython3",
   "version": "3.11.9"
  }
 },
 "nbformat": 4,
 "nbformat_minor": 2
}
