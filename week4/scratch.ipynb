{
 "cells": [
  {
   "cell_type": "code",
   "execution_count": 11,
   "metadata": {},
   "outputs": [],
   "source": [
    "import numpy as np\n",
    "import numpy.linalg as la"
   ]
  },
  {
   "cell_type": "code",
   "execution_count": 12,
   "metadata": {},
   "outputs": [],
   "source": [
    "data = np.array([[1, 2, 1, 2, 10, 10.3, 10.5, 10.7],\n",
    "                 [1, 1, 2, 2,  2,  2,  2, 2]])\n",
    "labels = np.array([[-1, -1, 1, 1, 1, 1, 1, 1]])\n",
    "blue_th = np.array([[0, 1]]).T\n",
    "blue_th0 = -1.5\n",
    "red_th = np.array([[1, 0]]).T\n",
    "red_th0 = -2.5"
   ]
  },
  {
   "cell_type": "code",
   "execution_count": 13,
   "metadata": {},
   "outputs": [],
   "source": [
    "def magnitude(th):\n",
    "    return la.norm(th)\n",
    "\n",
    "def margin(x, y, th, th0):\n",
    "    return y*(th.T@x+th0)/magnitude(th)"
   ]
  },
  {
   "cell_type": "code",
   "execution_count": 14,
   "metadata": {},
   "outputs": [],
   "source": [
    "def score_sum(data, labels, th, th0):\n",
    "    _, n = data.shape\n",
    "    margin_sum = 0\n",
    "    for i in range(n):\n",
    "        margin_sum += margin(data[:, i:i+1], labels[:, i:i+1], th, th0)\n",
    "    return margin_sum[0, 0]\n",
    "\n",
    "def score_min(data, labels, th, th0):\n",
    "    _, n = data.shape\n",
    "    margin_min = margin(data[:, 0:1], labels[:, 0:1], th, th0)[0, 0]\n",
    "    for i in range(1, n):\n",
    "        margin_min = min(margin_min, margin(data[:, i:i+1], labels[:, i:i+1], th, th0)[0, 0])\n",
    "    return margin_min\n",
    "\n",
    "def score_max(data, labels, th, th0):\n",
    "    _, n = data.shape\n",
    "    margin_max = margin(data[:, 0:1], labels[:, 0:1], th, th0)[0, 0]\n",
    "    for i in range(1, n):\n",
    "        margin_max = max(margin_max, margin(data[:, i:i+1], labels[:, i:i+1], th, th0)[0, 0])\n",
    "    return margin_max\n"
   ]
  },
  {
   "cell_type": "code",
   "execution_count": 15,
   "metadata": {},
   "outputs": [
    {
     "name": "stdout",
     "output_type": "stream",
     "text": [
      "31.5\n",
      "-1.5\n",
      "8.2\n"
     ]
    }
   ],
   "source": [
    "print(score_sum(data, labels, red_th, red_th0))\n",
    "print(score_min(data, labels, red_th, red_th0))\n",
    "print(score_max(data, labels, red_th, red_th0))"
   ]
  },
  {
   "cell_type": "code",
   "execution_count": 16,
   "metadata": {},
   "outputs": [
    {
     "name": "stdout",
     "output_type": "stream",
     "text": [
      "4.0\n",
      "0.5\n",
      "0.5\n"
     ]
    }
   ],
   "source": [
    "print(score_sum(data, labels, blue_th, blue_th0))\n",
    "print(score_min(data, labels, blue_th, blue_th0))\n",
    "print(score_max(data, labels, blue_th, blue_th0))"
   ]
  },
  {
   "cell_type": "code",
   "execution_count": 17,
   "metadata": {},
   "outputs": [],
   "source": [
    "data = np.array([[1.1, 1, 4],[3.1, 1, 2]])\n",
    "labels = np.array([[1, -1, -1]])\n",
    "th = np.array([[1, 1]]).T\n",
    "th0 = -4"
   ]
  },
  {
   "cell_type": "code",
   "execution_count": 18,
   "metadata": {},
   "outputs": [],
   "source": [
    "def hinge_loss(x, y, th, th0, ref):\n",
    "    m = margin(x, y, th, th0)\n",
    "    if m < ref:\n",
    "        return 1 - m/ref\n",
    "    return 0"
   ]
  },
  {
   "cell_type": "code",
   "execution_count": 19,
   "metadata": {},
   "outputs": [
    {
     "name": "stdout",
     "output_type": "stream",
     "text": [
      "[[0.8]]\n",
      "0\n",
      "[[3.]]\n"
     ]
    }
   ],
   "source": [
    "for i in range(3):\n",
    "    print(hinge_loss(data[:, i:i+1], labels[:, i:i+1], th, th0, 1/2**0.5))"
   ]
  },
  {
   "cell_type": "code",
   "execution_count": 20,
   "metadata": {},
   "outputs": [],
   "source": [
    "def cv(arr):\n",
    "    return np.array([arr]).T"
   ]
  },
  {
   "cell_type": "code",
   "execution_count": 21,
   "metadata": {},
   "outputs": [],
   "source": [
    "def f1(x):\n",
    "    return float((2 * x + 3)**2)\n",
    "\n",
    "def df1(x):\n",
    "    return 2 * 2 * (2 * x + 3)\n",
    "\n",
    "def f2(v):\n",
    "    x = float(v[0]); y = float(v[1])\n",
    "    return (x - 2.) * (x - 3.) * (x + 3.) * (x + 1.) + (x + y -1)**2\n",
    "\n",
    "def df2(v):\n",
    "    x = float(v[0]); y = float(v[1])\n",
    "    return cv([(-3. + x) * (-2. + x) * (1. + x) + \\\n",
    "               (-3. + x) * (-2. + x) * (3. + x) + \\\n",
    "               (-3. + x) * (1. + x) * (3. + x) + \\\n",
    "               (-2. + x) * (1. + x) * (3. + x) + \\\n",
    "               2 * (-1. + x + y),\n",
    "               2 * (-1. + x + y)]).T"
   ]
  },
  {
   "cell_type": "code",
   "execution_count": 22,
   "metadata": {},
   "outputs": [],
   "source": [
    "def package_ans(gd_vals):\n",
    "    x, fs, xs = gd_vals\n",
    "    return [x.tolist(), [fs[0], fs[-1]], [xs[0].tolist(), xs[-1].tolist()]]"
   ]
  },
  {
   "cell_type": "code",
   "execution_count": 31,
   "metadata": {},
   "outputs": [],
   "source": [
    "def gd(f, df, x0, step_size_fn, max_iter):\n",
    "    x = x0.copy()\n",
    "    xs = []\n",
    "    fs = []\n",
    "    xs.append(x0)\n",
    "    fs.append(f(x0))\n",
    "    for i in range(max_iter):\n",
    "        x = x-step_size_fn(i)*df(x)\n",
    "        xs.append(x)\n",
    "        fs.append(f(x))\n",
    "    return (x, fs, xs)\n",
    "    "
   ]
  },
  {
   "cell_type": "code",
   "execution_count": 40,
   "metadata": {},
   "outputs": [],
   "source": [
    "def num_grad(f, delta=0.001):\n",
    "    def df(x):\n",
    "        n = x.shape[0]\n",
    "        ret = []\n",
    "        diff = np.zeros((n, 1))\n",
    "        for i in range(n):\n",
    "            delta0 = np.copy(diff)\n",
    "            delta0[i, 0] = delta\n",
    "            ret.append(((f(x+delta0)-f(x-delta0))/(2*delta)))\n",
    "        return cv(ret)\n",
    "    return df"
   ]
  },
  {
   "cell_type": "code",
   "execution_count": 43,
   "metadata": {},
   "outputs": [],
   "source": [
    "def minimize(f, x0, step_size_fn, max_iter):\n",
    "    df = num_grad(f, delta=0.001)\n",
    "    return gd(f, df, x0, step_size_fn, max_iter)"
   ]
  },
  {
   "cell_type": "code",
   "execution_count": 44,
   "metadata": {},
   "outputs": [
    {
     "name": "stderr",
     "output_type": "stream",
     "text": [
      "C:\\Users\\jiama\\AppData\\Local\\Temp\\ipykernel_25388\\3569026143.py:2: DeprecationWarning: Conversion of an array with ndim > 0 to a scalar is deprecated, and will error in future. Ensure you extract a single element from your array before performing this operation. (Deprecated NumPy 1.25.)\n",
      "  return float((2 * x + 3)**2)\n"
     ]
    }
   ],
   "source": [
    "ans = package_ans(minimize(f1, cv([0.]), lambda i: 0.1, 1000))"
   ]
  },
  {
   "cell_type": "code",
   "execution_count": 45,
   "metadata": {},
   "outputs": [],
   "source": [
    "# v = y(theta*x+theta_0)\n",
    "def hinge(v):\n",
    "    return max(0, 1-v)\n",
    "\n",
    "# x is dxn, y is 1xn, th is dx1, th0 is 1x1\n",
    "def hinge_loss(x, y, th, th0):\n",
    "    loss = 0\n",
    "    n = x.shape[1]\n",
    "    for i in range(n):\n",
    "        loss += hinge((y[:, i:i+1]*(th.T@x[:, i:i+1]+th0))[0, 0])\n",
    "    return loss\n",
    "\n",
    "# x is dxn, y is 1xn, th is dx1, th0 is 1x1, lam is a scalar\n",
    "def svm_obj(x, y, th, th0, lam):\n",
    "    n = x.shape[1]\n",
    "    return hinge_loss(x, y, th, th0)/n + lam*la.norm(th)**2"
   ]
  },
  {
   "cell_type": "code",
   "execution_count": 46,
   "metadata": {},
   "outputs": [],
   "source": [
    "def super_simple_separable():\n",
    "    X = np.array([[2, 3, 9, 12],\n",
    "                  [5, 2, 6, 5]])\n",
    "    y = np.array([[1, -1, 1, -1]])\n",
    "    return X, y\n",
    "\n",
    "sep_e_separator = np.array([[-0.40338351], [1.1849563]]), np.array([[-2.26910091]])\n",
    "\n",
    "# Test case 1\n",
    "x_1, y_1 = super_simple_separable()\n",
    "th1, th1_0 = sep_e_separator\n",
    "ans = svm_obj(x_1, y_1, th1, th1_0, .1)\n",
    "\n",
    "# Test case 2\n",
    "ans = svm_obj(x_1, y_1, th1, th1_0, 0.0)"
   ]
  },
  {
   "cell_type": "code",
   "execution_count": 69,
   "metadata": {},
   "outputs": [],
   "source": [
    "def d_hinge(v):\n",
    "    return np.where(v >= 1, 0, -1)\n",
    "\n",
    "def d_hinge_loss_th(x, y, th, th0):\n",
    "    return d_hinge(y*(np.dot(th.T, x) + th0))*y*x\n",
    "\n",
    "def d_hinge_loss_th0(x, y, th, th0):\n",
    "    return d_hinge(y*(np.dot(th.T, x) + th0)) * y\n",
    "\n",
    "def d_svm_obj_th(x, y, th, th0, lam):\n",
    "    return np.mean(d_hinge_loss_th(x, y, th, th0), axis = 1, keepdims = True) + lam * 2 * th\n",
    "\n",
    "def d_svm_obj_th0(x, y, th, th0, lam):\n",
    "    return np.mean(d_hinge_loss_th0(x, y, th, th0), axis = 1, keepdims = True)\n",
    "\n",
    "def svm_obj_grad(X, y, th, th0, lam):\n",
    "    grad_th = d_svm_obj_th(X, y, th, th0, lam)\n",
    "    grad_th0 = d_svm_obj_th0(X, y, th, th0, lam)\n",
    "    return np.vstack([grad_th, grad_th0])"
   ]
  },
  {
   "cell_type": "code",
   "execution_count": 67,
   "metadata": {},
   "outputs": [
    {
     "data": {
      "text/plain": [
       "[[-0.06], [0.3], [0.0]]"
      ]
     },
     "execution_count": 67,
     "metadata": {},
     "output_type": "execute_result"
    }
   ],
   "source": [
    "X1 = np.array([[1, 2, 3, 9, 10]])\n",
    "y1 = np.array([[1, 1, 1, -1, -1]])\n",
    "th1, th10 = np.array([[-0.31202807]]), np.array([[1.834     ]])\n",
    "X2 = np.array([[2, 3, 9, 12],\n",
    "               [5, 2, 6, 5]])\n",
    "y2 = np.array([[1, -1, 1, -1]])\n",
    "th2, th20=np.array([[ -3.,  15.]]).T, np.array([[ 2.]])\n",
    "\n",
    "d_hinge(np.array([[ 71.]])).tolist()\n",
    "d_hinge(np.array([[ -23.]])).tolist()\n",
    "d_hinge(np.array([[ 71, -23.]])).tolist()\n",
    "\n",
    "d_hinge_loss_th(X2[:,0:1], y2[:,0:1], th2, th20).tolist()\n",
    "d_hinge_loss_th(X2, y2, th2, th20).tolist()\n",
    "d_hinge_loss_th0(X2[:,0:1], y2[:,0:1], th2, th20).tolist()\n",
    "d_hinge_loss_th0(X2, y2, th2, th20).tolist()\n",
    "\n",
    "d_svm_obj_th(X2[:,0:1], y2[:,0:1], th2, th20, 0.01).tolist()\n",
    "d_svm_obj_th(X2, y2, th2, th20, 0.01).tolist()\n",
    "d_svm_obj_th0(X2[:,0:1], y2[:,0:1], th2, th20, 0.01).tolist()\n",
    "d_svm_obj_th0(X2, y2, th2, th20, 0.01).tolist()\n",
    "\n",
    "svm_obj_grad(X2, y2, th2, th20, 0.01).tolist()\n",
    "svm_obj_grad(X2[:,0:1], y2[:,0:1], th2, th20, 0.01).tolist()"
   ]
  },
  {
   "cell_type": "code",
   "execution_count": 78,
   "metadata": {},
   "outputs": [
    {
     "data": {
      "text/plain": [
       "array([[3.69],\n",
       "       [2.05]])"
      ]
     },
     "execution_count": 78,
     "metadata": {},
     "output_type": "execute_result"
    }
   ],
   "source": [
    "np.mean(d_hinge_loss_th(X2, y2, th2, th20)*y2*X2, axis=1, keepdims=True) + 0.02*th2"
   ]
  }
 ],
 "metadata": {
  "kernelspec": {
   "display_name": "Python 3",
   "language": "python",
   "name": "python3"
  },
  "language_info": {
   "codemirror_mode": {
    "name": "ipython",
    "version": 3
   },
   "file_extension": ".py",
   "mimetype": "text/x-python",
   "name": "python",
   "nbconvert_exporter": "python",
   "pygments_lexer": "ipython3",
   "version": "3.11.9"
  }
 },
 "nbformat": 4,
 "nbformat_minor": 2
}
