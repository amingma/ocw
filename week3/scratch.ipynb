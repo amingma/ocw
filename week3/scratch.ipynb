{
 "cells": [
  {
   "cell_type": "code",
   "execution_count": 73,
   "metadata": {},
   "outputs": [],
   "source": [
    "import pandas as pd\n",
    "import numpy as np\n",
    "import itertools\n",
    "import operator\n",
    "import functools\n",
    "from code_and_data_for_hw3 import code_for_hw3_part1 as p1\n",
    "from code_and_data_for_hw3 import code_for_hw3_part2 as p2"
   ]
  },
  {
   "cell_type": "code",
   "execution_count": 5,
   "metadata": {},
   "outputs": [],
   "source": [
    "data = np.array([[2, 3, 4, 5]])\n",
    "labels = np.array([[1, 1, -1, -1]])"
   ]
  },
  {
   "cell_type": "code",
   "execution_count": 6,
   "metadata": {},
   "outputs": [],
   "source": [
    "def one_hot(x, k):\n",
    "    arr = np.zeros(k)\n",
    "    arr[x-1] = 1\n",
    "    return np.array([arr]).T"
   ]
  },
  {
   "cell_type": "code",
   "execution_count": 7,
   "metadata": {},
   "outputs": [
    {
     "data": {
      "text/plain": [
       "array([[1., 0., 0., 0., 0., 0.],\n",
       "       [0., 1., 0., 0., 0., 0.],\n",
       "       [0., 0., 1., 0., 0., 0.],\n",
       "       [0., 0., 0., 1., 0., 0.],\n",
       "       [0., 0., 0., 0., 1., 0.],\n",
       "       [0., 0., 0., 0., 0., 1.]])"
      ]
     },
     "execution_count": 7,
     "metadata": {},
     "output_type": "execute_result"
    }
   ],
   "source": [
    "data = np.zeros((6, 6))\n",
    "for i in range(6):\n",
    "    data[:, i:i+1] = one_hot(i+1, 6)\n",
    "labels = np.array([[1, 1, -1, -1, 1, 1]])\n",
    "data"
   ]
  },
  {
   "cell_type": "code",
   "execution_count": 8,
   "metadata": {},
   "outputs": [
    {
     "data": {
      "text/plain": [
       "(array([[ 1.],\n",
       "        [ 1.],\n",
       "        [-2.],\n",
       "        [-2.],\n",
       "        [ 1.],\n",
       "        [ 1.]]),\n",
       " array([[0.]]))"
      ]
     },
     "execution_count": 8,
     "metadata": {},
     "output_type": "execute_result"
    }
   ],
   "source": [
    "p1.perceptron(data, labels)"
   ]
  },
  {
   "cell_type": "code",
   "execution_count": null,
   "metadata": {},
   "outputs": [],
   "source": [
    "p1.make_polynomial_feature_fun(2)(np.zeros((10, 1))).shape"
   ]
  },
  {
   "cell_type": "code",
   "execution_count": 28,
   "metadata": {},
   "outputs": [],
   "source": [
    "auto_data_all = p2.load_auto_data(\"./lab3_data/auto-mpg.tsv\")\n",
    "features = [('cylinders', p2.raw),\n",
    "            ('displacement', p2.raw),\n",
    "            ('horsepower', p2.raw),\n",
    "            ('weight', p2.raw),\n",
    "            ('acceleration', p2.raw),\n",
    "            ## Drop model_year by default\n",
    "            ## ('model_year', hw3.raw),\n",
    "            ('origin', p2.raw)]\n",
    "\n",
    "features2 = [('cylinders', p2.one_hot),\n",
    "            ('displacement', p2.standard),\n",
    "            ('horsepower', p2.standard),\n",
    "            ('weight', p2.standard),\n",
    "            ('acceleration', p2.standard),\n",
    "            ## Drop model_year by default\n",
    "            ## ('model_year', hw3.raw),\n",
    "            ('origin', p2.one_hot)]"
   ]
  },
  {
   "cell_type": "code",
   "execution_count": 71,
   "metadata": {},
   "outputs": [
    {
     "name": "stdout",
     "output_type": "stream",
     "text": [
      "avg and std {'displacement': (388.3482142857143, 302.0458123396403), 'horsepower': (509.3545918367347, 333.6521151716361), 'weight': (2977.5841836734694, 848.3184465698365), 'acceleration': (15.541326530612228, 2.7553429127509963)}\n",
      "entries in one_hot field {'cylinders': [3.0, 4.0, 5.0, 6.0, 8.0], 'origin': [1.0, 2.0, 3.0]}\n",
      "(12, 392)\n",
      "(1, 392)\n"
     ]
    }
   ],
   "source": [
    "auto_data, auto_labels = p2.auto_data_and_labels(auto_data_all, features2)\n",
    "print(auto_data.shape)\n",
    "print(auto_labels.shape)\n",
    "#p2.xval_learning_alg(p2.averaged_perceptron, auto_data, auto_labels, 10)"
   ]
  },
  {
   "cell_type": "code",
   "execution_count": 39,
   "metadata": {},
   "outputs": [
    {
     "data": {
      "text/plain": [
       "(array([[-2.20586735],\n",
       "        [ 0.31283163],\n",
       "        [ 0.6892602 ],\n",
       "        [-0.93739796],\n",
       "        [ 2.8592602 ],\n",
       "        [-1.42199522],\n",
       "        [ 0.28864298],\n",
       "        [-6.72622777],\n",
       "        [ 0.84545478],\n",
       "        [-0.10834184],\n",
       "        [ 1.42637755],\n",
       "        [-0.59994898]]),\n",
       " array([[0.71808673]]))"
      ]
     },
     "execution_count": 39,
     "metadata": {},
     "output_type": "execute_result"
    }
   ],
   "source": [
    "p2.averaged_perceptron(auto_data, auto_labels)"
   ]
  },
  {
   "cell_type": "code",
   "execution_count": 74,
   "metadata": {},
   "outputs": [],
   "source": [
    "test = p2.load_review_data(\"./lab3_data/reviews.tsv\")\n",
    "text = []\n",
    "review_labels = np.array([np.zeros(len(test))])\n",
    "for stuff in test:\n",
    "    text.append(stuff[\"text\"])\n",
    "for i in range(len(test)):\n",
    "    review_labels[0, i] = test[i][\"sentiment\"]\n",
    "rah = p2.bag_of_words(text)\n",
    "review_data = p2.extract_bow_feature_vectors(text, rah)"
   ]
  },
  {
   "cell_type": "code",
   "execution_count": 75,
   "metadata": {},
   "outputs": [
    {
     "name": "stdout",
     "output_type": "stream",
     "text": [
      "(1, 10000)\n",
      "(19945, 10000)\n"
     ]
    },
    {
     "ename": "ValueError",
     "evalue": "The truth value of an array with more than one element is ambiguous. Use a.any() or a.all()",
     "output_type": "error",
     "traceback": [
      "\u001b[1;31m---------------------------------------------------------------------------\u001b[0m",
      "\u001b[1;31mValueError\u001b[0m                                Traceback (most recent call last)",
      "Cell \u001b[1;32mIn[75], line 4\u001b[0m\n\u001b[0;32m      1\u001b[0m \u001b[38;5;28mprint\u001b[39m(review_labels\u001b[38;5;241m.\u001b[39mshape)\n\u001b[0;32m      2\u001b[0m \u001b[38;5;28mprint\u001b[39m(review_data\u001b[38;5;241m.\u001b[39mshape)\n\u001b[1;32m----> 4\u001b[0m \u001b[43mp2\u001b[49m\u001b[38;5;241;43m.\u001b[39;49m\u001b[43mxval_learning_alg\u001b[49m\u001b[43m(\u001b[49m\u001b[43mp2\u001b[49m\u001b[38;5;241;43m.\u001b[39;49m\u001b[43maveraged_perceptron\u001b[49m\u001b[43m,\u001b[49m\u001b[43m \u001b[49m\u001b[43mreview_labels\u001b[49m\u001b[43m,\u001b[49m\u001b[43m \u001b[49m\u001b[43mreview_data\u001b[49m\u001b[43m,\u001b[49m\u001b[43m \u001b[49m\u001b[38;5;241;43m10\u001b[39;49m\u001b[43m)\u001b[49m\n",
      "File \u001b[1;32mc:\\Users\\jiama\\Documents\\ocw\\week3\\code_and_data_for_hw3\\code_for_hw3_part2.py:210\u001b[0m, in \u001b[0;36mxval_learning_alg\u001b[1;34m(learner, data, labels, k)\u001b[0m\n\u001b[0;32m    208\u001b[0m     data_test \u001b[38;5;241m=\u001b[39m np\u001b[38;5;241m.\u001b[39marray(s_data[i])\n\u001b[0;32m    209\u001b[0m     labels_test \u001b[38;5;241m=\u001b[39m np\u001b[38;5;241m.\u001b[39marray(s_labels[i])\n\u001b[1;32m--> 210\u001b[0m     score_sum \u001b[38;5;241m+\u001b[39m\u001b[38;5;241m=\u001b[39m \u001b[43meval_classifier\u001b[49m\u001b[43m(\u001b[49m\u001b[43mlearner\u001b[49m\u001b[43m,\u001b[49m\u001b[43m \u001b[49m\u001b[43mdata_train\u001b[49m\u001b[43m,\u001b[49m\u001b[43m \u001b[49m\u001b[43mlabels_train\u001b[49m\u001b[43m,\u001b[49m\n\u001b[0;32m    211\u001b[0m \u001b[43m                                          \u001b[49m\u001b[43mdata_test\u001b[49m\u001b[43m,\u001b[49m\u001b[43m \u001b[49m\u001b[43mlabels_test\u001b[49m\u001b[43m)\u001b[49m\n\u001b[0;32m    212\u001b[0m \u001b[38;5;28;01mreturn\u001b[39;00m score_sum\u001b[38;5;241m/\u001b[39mk\n",
      "File \u001b[1;32mc:\\Users\\jiama\\Documents\\ocw\\week3\\code_and_data_for_hw3\\code_for_hw3_part2.py:191\u001b[0m, in \u001b[0;36meval_classifier\u001b[1;34m(learner, data_train, labels_train, data_test, labels_test)\u001b[0m\n\u001b[0;32m    190\u001b[0m \u001b[38;5;28;01mdef\u001b[39;00m \u001b[38;5;21meval_classifier\u001b[39m(learner, data_train, labels_train, data_test, labels_test):\n\u001b[1;32m--> 191\u001b[0m     th, th0 \u001b[38;5;241m=\u001b[39m \u001b[43mlearner\u001b[49m\u001b[43m(\u001b[49m\u001b[43mdata_train\u001b[49m\u001b[43m,\u001b[49m\u001b[43m \u001b[49m\u001b[43mlabels_train\u001b[49m\u001b[43m)\u001b[49m\n\u001b[0;32m    192\u001b[0m     \u001b[38;5;28;01mreturn\u001b[39;00m score(data_test, labels_test, th, th0)\u001b[38;5;241m/\u001b[39mdata_test\u001b[38;5;241m.\u001b[39mshape[\u001b[38;5;241m1\u001b[39m]\n",
      "File \u001b[1;32mc:\\Users\\jiama\\Documents\\ocw\\week3\\code_and_data_for_hw3\\code_for_hw3_part2.py:173\u001b[0m, in \u001b[0;36maveraged_perceptron\u001b[1;34m(data, labels, params, hook)\u001b[0m\n\u001b[0;32m    171\u001b[0m x \u001b[38;5;241m=\u001b[39m data[:,i:i\u001b[38;5;241m+\u001b[39m\u001b[38;5;241m1\u001b[39m]\n\u001b[0;32m    172\u001b[0m y \u001b[38;5;241m=\u001b[39m labels[:,i:i\u001b[38;5;241m+\u001b[39m\u001b[38;5;241m1\u001b[39m]\n\u001b[1;32m--> 173\u001b[0m \u001b[38;5;28;01mif\u001b[39;00m y \u001b[38;5;241m*\u001b[39m positive(x, theta, theta_0) \u001b[38;5;241m<\u001b[39m\u001b[38;5;241m=\u001b[39m \u001b[38;5;241m0.0\u001b[39m:\n\u001b[0;32m    174\u001b[0m     theta \u001b[38;5;241m=\u001b[39m theta \u001b[38;5;241m+\u001b[39m y \u001b[38;5;241m*\u001b[39m x\n\u001b[0;32m    175\u001b[0m     theta_0 \u001b[38;5;241m=\u001b[39m theta_0 \u001b[38;5;241m+\u001b[39m y\n",
      "\u001b[1;31mValueError\u001b[0m: The truth value of an array with more than one element is ambiguous. Use a.any() or a.all()"
     ]
    }
   ],
   "source": [
    "print(review_labels.shape)\n",
    "print(review_data.shape)\n",
    "\n",
    "p2.xval_learning_alg(p2.averaged_perceptron, review_labels, review_data, 10)"
   ]
  }
 ],
 "metadata": {
  "kernelspec": {
   "display_name": "Python 3",
   "language": "python",
   "name": "python3"
  },
  "language_info": {
   "codemirror_mode": {
    "name": "ipython",
    "version": 3
   },
   "file_extension": ".py",
   "mimetype": "text/x-python",
   "name": "python",
   "nbconvert_exporter": "python",
   "pygments_lexer": "ipython3",
   "version": "3.11.9"
  }
 },
 "nbformat": 4,
 "nbformat_minor": 2
}
