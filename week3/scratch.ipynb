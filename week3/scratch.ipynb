{
 "cells": [
  {
   "cell_type": "code",
   "execution_count": 17,
   "metadata": {},
   "outputs": [],
   "source": [
    "import pandas as pd\n",
    "import numpy as np"
   ]
  },
  {
   "cell_type": "code",
   "execution_count": 18,
   "metadata": {},
   "outputs": [],
   "source": [
    "data = np.array([[200, 800, 200, 800], [0.2, 0.2, 0.8, 0.8], [1, 1, 1, 1]])\n",
    "labels = np.array([[-1, -1, 1, 1]])"
   ]
  },
  {
   "cell_type": "code",
   "execution_count": 39,
   "metadata": {},
   "outputs": [],
   "source": [
    "def perceptron_through_origin(data, labels, params={}, hook=None):\n",
    "    # if T not in params, default to 100\n",
    "    T = params.get('T', 1000000)\n",
    "    mistakes = 0\n",
    "    # Your implementation here\n",
    "    d, n = data.shape\n",
    "    th = np.zeros((d, 1))\n",
    "    for i in range(T):\n",
    "      for j in range(n):\n",
    "        # current column of data\n",
    "        cur_data = data[:, j]\n",
    "        # label for that column of data\n",
    "        cur_label = labels[0, j]\n",
    "        # label for our column prediction\n",
    "        cur_pred = np.sign(th.T @ cur_data)[0]\n",
    "        # if labels do not match\n",
    "        if (np.sign(cur_pred*cur_label)<=0):\n",
    "          # update logic\n",
    "          th[:, 0] = th[:, 0] + cur_label*cur_data\n",
    "          #print(th)\n",
    "          mistakes += 1\n",
    "          #hook(th, th0)\n",
    "    return (th, mistakes)"
   ]
  },
  {
   "cell_type": "code",
   "execution_count": 40,
   "metadata": {},
   "outputs": [
    {
     "data": {
      "text/plain": [
       "array([[-2.000000e+02],\n",
       "       [ 2.000068e+05],\n",
       "       [-4.000000e+00]])"
      ]
     },
     "execution_count": 40,
     "metadata": {},
     "output_type": "execute_result"
    }
   ],
   "source": [
    "perceptron_through_origin(data, labels)[0]"
   ]
  }
 ],
 "metadata": {
  "kernelspec": {
   "display_name": "Python 3",
   "language": "python",
   "name": "python3"
  },
  "language_info": {
   "codemirror_mode": {
    "name": "ipython",
    "version": 3
   },
   "file_extension": ".py",
   "mimetype": "text/x-python",
   "name": "python",
   "nbconvert_exporter": "python",
   "pygments_lexer": "ipython3",
   "version": "3.11.9"
  }
 },
 "nbformat": 4,
 "nbformat_minor": 2
}
