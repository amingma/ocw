{
 "cells": [
  {
   "cell_type": "code",
   "execution_count": 1,
   "metadata": {},
   "outputs": [],
   "source": [
    "import pandas as pd\n",
    "import numpy as np\n",
    "import numpy.linalg as la"
   ]
  },
  {
   "cell_type": "code",
   "execution_count": 179,
   "metadata": {},
   "outputs": [],
   "source": [
    "# load in raw dataset\n",
    "df = pd.read_csv(\"./lab3_data/auto-mpg.tsv\", sep='\\t')\n",
    "# standardize all of the continuous data\n",
    "cont = [\"cylinders\", \"displacement\", \"horsepower\", \"weight\", \"acceleration\", \"model_year\"]\n",
    "for str in cont:\n",
    "    df[str] = (df[str] - df[str].mean())/df[str].std()\n",
    "# drop car name column b/c hard to make use of categorical data\n",
    "df = df.drop(columns=[\"car_name\"])\n",
    "# one hot encode origin\n",
    "df = pd.get_dummies(df, columns=[\"origin\"], dtype=int)\n"
   ]
  },
  {
   "cell_type": "code",
   "execution_count": 180,
   "metadata": {},
   "outputs": [
    {
     "data": {
      "text/plain": [
       "1.0"
      ]
     },
     "execution_count": 180,
     "metadata": {},
     "output_type": "execute_result"
    }
   ],
   "source": [
    "data = df.to_numpy()\n",
    "# randomly shuffling data for training/test purposes\n",
    "np.random.shuffle(data)\n",
    "labels = np.array([data[:, 0]])\n",
    "data = np.delete(data, 0, 1).T"
   ]
  },
  {
   "cell_type": "code",
   "execution_count": 181,
   "metadata": {},
   "outputs": [],
   "source": [
    "def averaged_perceptron(data, labels, T):\n",
    "    d, n = data.shape\n",
    "    theta = np.zeros((d,1))\n",
    "    theta_0 = np.zeros(1)\n",
    "    ths = np.zeros((d,1))\n",
    "    th0s = np.zeros(1)\n",
    "  \n",
    "    for t in range(T):     \n",
    "      for i in range(n):\n",
    "        y = labels[0,i]\n",
    "        x = data[:,i]\n",
    "        \n",
    "        a = np.dot(x,theta)+theta_0\n",
    "        if np.sign(y*a)[0] <=0: # update the thetas\n",
    "          theta[:,0] = theta[:,0]+ y*x\n",
    "          theta_0 = theta_0 + y\n",
    "        \n",
    "        ths += theta\n",
    "        th0s += theta_0\n",
    "    return (ths/(n*T),th0s/(n*T))\n"
   ]
  },
  {
   "cell_type": "code",
   "execution_count": 182,
   "metadata": {},
   "outputs": [],
   "source": [
    "def score(data_test, labels_test, th, th0):\n",
    "    d, n = data_test.shape\n",
    "    ret = 0\n",
    "    for i in range(n):\n",
    "        x = data_test[:, i]\n",
    "        y = labels_test[0, i]\n",
    "        a = np.dot(x, th)+th0\n",
    "        if np.sign(a)[0]==y:\n",
    "            ret+=1\n",
    "    return ret"
   ]
  },
  {
   "cell_type": "code",
   "execution_count": 183,
   "metadata": {},
   "outputs": [],
   "source": [
    "\n",
    "def eval_classifier(learner, data_train, labels_train, data_test, labels_test):\n",
    "    th, th0 = learner(data_train, labels_train, 100)\n",
    "    return score(data_test, labels_test, th, th0)/labels_test.shape[1]"
   ]
  },
  {
   "cell_type": "code",
   "execution_count": 184,
   "metadata": {},
   "outputs": [],
   "source": [
    "def xval_learning_alg(learner, data, labels, k):\n",
    "  d, n = data.shape\n",
    "  a = np.array_split(data, k, axis=1)\n",
    "  b = np.array_split(labels, k, axis=1)\n",
    "  score = 0\n",
    "  for i in range(k):\n",
    "    # initialize testing data/labels\n",
    "    data_test = a[i]\n",
    "    label_test = b[i]\n",
    "\n",
    "    data_train = np.zeros((d, 1))\n",
    "    label_train = np.zeros((1, 1))\n",
    "    for j in range(0, k):\n",
    "      if i==j:\n",
    "        continue\n",
    "      data_train = np.concatenate((data_train, a[j]), axis=1)\n",
    "      label_train = np.concatenate((label_train, b[j]), axis=1)\n",
    "    data_train = np.delete(data_train, 0, 1)\n",
    "    label_train = np.delete(label_train, 0, 1)\n",
    "    score += eval_classifier(learner, data_train, label_train, data_test, label_test)\n",
    "  return score/k\n"
   ]
  },
  {
   "cell_type": "code",
   "execution_count": 186,
   "metadata": {},
   "outputs": [
    {
     "data": {
      "text/plain": [
       "0.8978846153846154"
      ]
     },
     "execution_count": 186,
     "metadata": {},
     "output_type": "execute_result"
    }
   ],
   "source": [
    "xval_learning_alg(averaged_perceptron, data, labels, 10)"
   ]
  },
  {
   "cell_type": "code",
   "execution_count": 2,
   "metadata": {},
   "outputs": [],
   "source": [
    "mat = np.array([[1,1,1], [1, 1, 1], [1, 1, 1]])\n",
    "U, S, Vt = "
   ]
  },
  {
   "cell_type": "code",
   "execution_count": null,
   "metadata": {},
   "outputs": [],
   "source": []
  }
 ],
 "metadata": {
  "kernelspec": {
   "display_name": "Python 3",
   "language": "python",
   "name": "python3"
  },
  "language_info": {
   "codemirror_mode": {
    "name": "ipython",
    "version": 3
   },
   "file_extension": ".py",
   "mimetype": "text/x-python",
   "name": "python",
   "nbconvert_exporter": "python",
   "pygments_lexer": "ipython3",
   "version": "3.11.9"
  }
 },
 "nbformat": 4,
 "nbformat_minor": 2
}
